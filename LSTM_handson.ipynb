{
  "nbformat": 4,
  "nbformat_minor": 0,
  "metadata": {
    "colab": {
      "provenance": [],
      "gpuType": "T4",
      "include_colab_link": true
    },
    "kernelspec": {
      "name": "python3",
      "display_name": "Python 3"
    },
    "language_info": {
      "name": "python"
    },
    "accelerator": "GPU"
  },
  "cells": [
    {
      "cell_type": "markdown",
      "metadata": {
        "id": "view-in-github",
        "colab_type": "text"
      },
      "source": [
        "<a href=\"https://colab.research.google.com/github/debasishcharanbehera1998/Assignments/blob/main/LSTM_handson.ipynb\" target=\"_parent\"><img src=\"https://colab.research.google.com/assets/colab-badge.svg\" alt=\"Open In Colab\"/></a>"
      ]
    },
    {
      "cell_type": "markdown",
      "source": [
        "Building a Next word prediction model using RNN that can predict the next word given a context"
      ],
      "metadata": {
        "id": "MIKjUOoi0HYU"
      }
    },
    {
      "cell_type": "code",
      "execution_count": 1,
      "metadata": {
        "id": "ujLfCKmnzsAy"
      },
      "outputs": [],
      "source": [
        "text = \"\"\"Virat Kohli (Hindi pronunciation is an Indian international cricketer who currently plays Test cricket\n",
        "        and ODI cricket for India. Kohli is a former T20I player and a former\n",
        "        captain of the Indian national cricket team. He is a right-handed batsman\n",
        "        and an occasional unorthodox right arm quick bowler. He currently\n",
        "        represents Royal Challengers Bengaluru in the IPL and Delhi in\n",
        "        domestic cricket. He holds the record as the highest run-scorer\n",
        "        in IPL, ranks third in T20I, third in ODI, and stands as the\n",
        "        fourth-highest in international cricket.[4] He also holds the\n",
        "        record for scoring the most centuries in ODI cricket and stands\n",
        "        second in the list of most international centuries scored. Hence,\n",
        "        Kohli is widely regarded as one of the greatest batsmen of all time\n",
        "        and the modern era. Kohli was a key member of the Indian team that\n",
        "        won the 2011 Cricket World Cup, 2013 Champions Trophy and 2024 T20\n",
        "        World Cup and captained India to win the ICC Test match three\"\"\""
      ]
    },
    {
      "cell_type": "code",
      "source": [
        "import torch"
      ],
      "metadata": {
        "id": "1KTie2TM1O01"
      },
      "execution_count": 2,
      "outputs": []
    },
    {
      "cell_type": "code",
      "source": [
        "# !nvidia-smi"
      ],
      "metadata": {
        "id": "2g9hZYbh1iZN"
      },
      "execution_count": 3,
      "outputs": []
    },
    {
      "cell_type": "markdown",
      "source": [
        "## converting the text into labled dataset"
      ],
      "metadata": {
        "id": "RXImWANO9TbY"
      }
    },
    {
      "cell_type": "code",
      "source": [
        "word2idx = {word:i for i, word in enumerate(set(text.split()))}\n",
        "word2idx"
      ],
      "metadata": {
        "colab": {
          "base_uri": "https://localhost:8080/"
        },
        "id": "cLhK2j-I99Zw",
        "outputId": "e56c4d1e-0edd-4866-bf7a-427666ae7ade"
      },
      "execution_count": 4,
      "outputs": [
        {
          "output_type": "execute_result",
          "data": {
            "text/plain": [
              "{'Cup,': 0,\n",
              " 'right-handed': 1,\n",
              " 'unorthodox': 2,\n",
              " 'most': 3,\n",
              " 'batsmen': 4,\n",
              " 'widely': 5,\n",
              " 'won': 6,\n",
              " '2011': 7,\n",
              " 'win': 8,\n",
              " 'pronunciation': 9,\n",
              " 'cricket': 10,\n",
              " 'one': 11,\n",
              " 'international': 12,\n",
              " 'Challengers': 13,\n",
              " 'time': 14,\n",
              " 'scoring': 15,\n",
              " 'an': 16,\n",
              " 'T20I': 17,\n",
              " 'currently': 18,\n",
              " 'run-scorer': 19,\n",
              " 'also': 20,\n",
              " 'for': 21,\n",
              " 'World': 22,\n",
              " 'of': 23,\n",
              " 'record': 24,\n",
              " 'Indian': 25,\n",
              " 'Trophy': 26,\n",
              " 'arm': 27,\n",
              " 'modern': 28,\n",
              " 'ODI': 29,\n",
              " 'ODI,': 30,\n",
              " 'Hence,': 31,\n",
              " 'India': 32,\n",
              " 'was': 33,\n",
              " 'team': 34,\n",
              " '2013': 35,\n",
              " 'fourth-highest': 36,\n",
              " 'match': 37,\n",
              " 'former': 38,\n",
              " '(Hindi': 39,\n",
              " 'cricket.[4]': 40,\n",
              " 'the': 41,\n",
              " 'captained': 42,\n",
              " 'is': 43,\n",
              " 'centuries': 44,\n",
              " 'third': 45,\n",
              " 'as': 46,\n",
              " 'Royal': 47,\n",
              " 'and': 48,\n",
              " 'Cup': 49,\n",
              " 'captain': 50,\n",
              " 'Test': 51,\n",
              " 'a': 52,\n",
              " 'highest': 53,\n",
              " 'Virat': 54,\n",
              " 'team.': 55,\n",
              " 'bowler.': 56,\n",
              " 'member': 57,\n",
              " 'all': 58,\n",
              " 'greatest': 59,\n",
              " 'Kohli': 60,\n",
              " 'to': 61,\n",
              " 'list': 62,\n",
              " 'India.': 63,\n",
              " 'holds': 64,\n",
              " 'quick': 65,\n",
              " '2024': 66,\n",
              " 'era.': 67,\n",
              " 'that': 68,\n",
              " 'domestic': 69,\n",
              " 'national': 70,\n",
              " 'cricket.': 71,\n",
              " 'IPL,': 72,\n",
              " 'player': 73,\n",
              " 'T20': 74,\n",
              " 'in': 75,\n",
              " 'who': 76,\n",
              " 'Cricket': 77,\n",
              " 'ICC': 78,\n",
              " 'regarded': 79,\n",
              " 'plays': 80,\n",
              " 'Bengaluru': 81,\n",
              " 'scored.': 82,\n",
              " 'stands': 83,\n",
              " 'cricketer': 84,\n",
              " 'Champions': 85,\n",
              " 'He': 86,\n",
              " 'Delhi': 87,\n",
              " 'T20I,': 88,\n",
              " 'three': 89,\n",
              " 'occasional': 90,\n",
              " 'key': 91,\n",
              " 'represents': 92,\n",
              " 'ranks': 93,\n",
              " 'right': 94,\n",
              " 'second': 95,\n",
              " 'batsman': 96,\n",
              " 'IPL': 97}"
            ]
          },
          "metadata": {},
          "execution_count": 4
        }
      ]
    },
    {
      "cell_type": "code",
      "source": [
        "from torch.utils.data import Dataset"
      ],
      "metadata": {
        "id": "OvTWLZXB1sm7"
      },
      "execution_count": 5,
      "outputs": []
    },
    {
      "cell_type": "markdown",
      "source": [
        "## In order to create any custom dataset in torch you need to define 3\n",
        " class methods\n",
        " 1. __init__\n",
        " 2. __len__\n",
        " 3. __getitem__"
      ],
      "metadata": {
        "id": "RlxtYdVr-Zjk"
      }
    },
    {
      "cell_type": "code",
      "source": [
        "class customDataset(Dataset):\n",
        "  def __init__(self, text, word2idx, seq_length):\n",
        "    self.text = text\n",
        "    self.word2idx = word2idx\n",
        "    self.seq_length = seq_length\n",
        "\n",
        "  def __len__(self):\n",
        "    return len(self.text) - self.seq_length\n",
        "\n",
        "  def __getitem__(self,index):\n",
        "    sequence = [self.word2idx[word] for word in self.text[index:index+self.seq_length]]\n",
        "    target = self.word2idx[self.text[index+self.seq_length]]\n",
        "\n",
        "    return torch.tensor(sequence), torch.tensor(target)"
      ],
      "metadata": {
        "id": "BFzTn0F29tzy"
      },
      "execution_count": 7,
      "outputs": []
    },
    {
      "cell_type": "code",
      "source": [
        "dataset = customDataset(text.split(),word2idx,20)"
      ],
      "metadata": {
        "id": "2LctWQTa_DmH"
      },
      "execution_count": 8,
      "outputs": []
    },
    {
      "cell_type": "code",
      "source": [
        "dataset[10]"
      ],
      "metadata": {
        "colab": {
          "base_uri": "https://localhost:8080/"
        },
        "id": "Vp2wvgKE_M0I",
        "outputId": "4bd322d0-b5bc-4511-8a77-28b8419c9b0a"
      },
      "execution_count": 9,
      "outputs": [
        {
          "output_type": "execute_result",
          "data": {
            "text/plain": [
              "(tensor([18, 80, 51, 10, 48, 29, 10, 21, 63, 60, 43, 52, 38, 17, 73, 48, 52, 38,\n",
              "         50, 23]),\n",
              " tensor(41))"
            ]
          },
          "metadata": {},
          "execution_count": 9
        }
      ]
    },
    {
      "cell_type": "code",
      "source": [
        "idx2word = {i:word for word,i in word2idx.items()}"
      ],
      "metadata": {
        "id": "oE_r6oSW_QHg"
      },
      "execution_count": 10,
      "outputs": []
    },
    {
      "cell_type": "code",
      "source": [
        "# for m in [84, 10, 56, 95, 42, 80, 95, 86, 33, 91]:\n",
        "#   print(idx2word[m])"
      ],
      "metadata": {
        "id": "ZmV4BdyhABqI"
      },
      "execution_count": null,
      "outputs": []
    },
    {
      "cell_type": "code",
      "source": [
        "from torch.utils.data import DataLoader"
      ],
      "metadata": {
        "id": "15i9Du3ZAGfD"
      },
      "execution_count": 11,
      "outputs": []
    },
    {
      "cell_type": "code",
      "source": [
        "dataloader = DataLoader(dataset, batch_size=32, shuffle=True)"
      ],
      "metadata": {
        "id": "0D9khbBlCDDv"
      },
      "execution_count": 12,
      "outputs": []
    },
    {
      "cell_type": "code",
      "source": [
        "import torch.nn as nn"
      ],
      "metadata": {
        "id": "icqFbNfbCHOE"
      },
      "execution_count": 13,
      "outputs": []
    },
    {
      "cell_type": "code",
      "source": [
        "class LSTMmodel(nn.Module):\n",
        "  def __init__(self, vocab_size, embed_size, hidden_size):\n",
        "    super(LSTMmodel, self).__init__()\n",
        "    self.embed = nn.Embedding(vocab_size, embed_size)\n",
        "    self.lstm = nn.LSTM(embed_size,hidden_size,10,batch_first=True)\n",
        "    self.fc = nn.Linear(hidden_size,vocab_size)\n",
        "\n",
        "  def forward(self, x, h0, c0):\n",
        "    embed = self.embed(x)\n",
        "    out,(h_n, c_n) = self.lstm(embed, (h0,c0))\n",
        "    output = self.fc(out[:,-1,:])\n",
        "    return output, (h_n, c_n)"
      ],
      "metadata": {
        "id": "zitIfBvYCX-E"
      },
      "execution_count": 14,
      "outputs": []
    },
    {
      "cell_type": "code",
      "source": [
        "model = LSTMmodel(len(word2idx),embed_size= 128,hidden_size = 256).to('cuda')"
      ],
      "metadata": {
        "id": "i-WtcEKkC6qR"
      },
      "execution_count": 16,
      "outputs": []
    },
    {
      "cell_type": "code",
      "source": [
        "import torch.optim as optim\n",
        "optimizer = optim.SGD(model.parameters(), lr=0.01)\n",
        "criterion = nn.CrossEntropyLoss()"
      ],
      "metadata": {
        "id": "gDieQslbELc9"
      },
      "execution_count": 17,
      "outputs": []
    },
    {
      "cell_type": "markdown",
      "source": [
        "## Trainig the RNN model"
      ],
      "metadata": {
        "id": "jNjtZMYKErXK"
      }
    },
    {
      "cell_type": "code",
      "source": [
        "%%timeit\n",
        "\n",
        "for epoch in range(10):\n",
        "  for input,label in dataloader:\n",
        "    optimizer.zero_grad()\n",
        "    input = input.to('cuda')\n",
        "    label = label.to('cuda')\n",
        "    h0 = torch.zeros(10,input.size(0),256).to('cuda')\n",
        "    c0 = torch.zeros(10,input.size(0),256).to('cuda')\n",
        "    outputs, _ = model(input,h0,c0)\n",
        "    loss = criterion(outputs,label)\n",
        "    loss.backward()\n",
        "    optimizer.step()\n",
        "  print(f\"Epoch {epoch} : Loss : {loss.item()}\")"
      ],
      "metadata": {
        "colab": {
          "base_uri": "https://localhost:8080/"
        },
        "id": "i25AKzEGEq0o",
        "outputId": "beefa3ba-67da-4ee4-c00f-67ec2c1ce7d8"
      },
      "execution_count": 18,
      "outputs": [
        {
          "output_type": "stream",
          "name": "stdout",
          "text": [
            "Epoch 0 : Loss : 4.591339111328125\n",
            "Epoch 1 : Loss : 4.60338830947876\n",
            "Epoch 2 : Loss : 4.588670253753662\n",
            "Epoch 3 : Loss : 4.606540203094482\n",
            "Epoch 4 : Loss : 4.592824459075928\n",
            "Epoch 5 : Loss : 4.593382835388184\n",
            "Epoch 6 : Loss : 4.571767330169678\n",
            "Epoch 7 : Loss : 4.5704450607299805\n",
            "Epoch 8 : Loss : 4.5910210609436035\n",
            "Epoch 9 : Loss : 4.5783305168151855\n",
            "Epoch 0 : Loss : 4.584235668182373\n",
            "Epoch 1 : Loss : 4.580408096313477\n",
            "Epoch 2 : Loss : 4.576195240020752\n",
            "Epoch 3 : Loss : 4.5593085289001465\n",
            "Epoch 4 : Loss : 4.573576927185059\n",
            "Epoch 5 : Loss : 4.564978122711182\n",
            "Epoch 6 : Loss : 4.562230110168457\n",
            "Epoch 7 : Loss : 4.573721408843994\n",
            "Epoch 8 : Loss : 4.585414409637451\n",
            "Epoch 9 : Loss : 4.556032180786133\n",
            "Epoch 0 : Loss : 4.591492176055908\n",
            "Epoch 1 : Loss : 4.579452991485596\n",
            "Epoch 2 : Loss : 4.561901569366455\n",
            "Epoch 3 : Loss : 4.58981990814209\n",
            "Epoch 4 : Loss : 4.57583475112915\n",
            "Epoch 5 : Loss : 4.590928077697754\n",
            "Epoch 6 : Loss : 4.563047409057617\n",
            "Epoch 7 : Loss : 4.546274185180664\n",
            "Epoch 8 : Loss : 4.557852268218994\n",
            "Epoch 9 : Loss : 4.588507652282715\n",
            "Epoch 0 : Loss : 4.570977210998535\n",
            "Epoch 1 : Loss : 4.54319953918457\n",
            "Epoch 2 : Loss : 4.554664134979248\n",
            "Epoch 3 : Loss : 4.550592422485352\n",
            "Epoch 4 : Loss : 4.5604939460754395\n",
            "Epoch 5 : Loss : 4.552733421325684\n",
            "Epoch 6 : Loss : 4.564101219177246\n",
            "Epoch 7 : Loss : 4.5918426513671875\n",
            "Epoch 8 : Loss : 4.544052600860596\n",
            "Epoch 9 : Loss : 4.56259298324585\n",
            "Epoch 0 : Loss : 4.572342872619629\n",
            "Epoch 1 : Loss : 4.581086158752441\n",
            "Epoch 2 : Loss : 4.552757740020752\n",
            "Epoch 3 : Loss : 4.537027835845947\n",
            "Epoch 4 : Loss : 4.560103416442871\n",
            "Epoch 5 : Loss : 4.565857410430908\n",
            "Epoch 6 : Loss : 4.513181686401367\n",
            "Epoch 7 : Loss : 4.515791416168213\n",
            "Epoch 8 : Loss : 4.529570579528809\n",
            "Epoch 9 : Loss : 4.564470291137695\n",
            "Epoch 0 : Loss : 4.525617599487305\n",
            "Epoch 1 : Loss : 4.537203311920166\n",
            "Epoch 2 : Loss : 4.545553207397461\n",
            "Epoch 3 : Loss : 4.528090000152588\n",
            "Epoch 4 : Loss : 4.544993877410889\n",
            "Epoch 5 : Loss : 4.521236896514893\n",
            "Epoch 6 : Loss : 4.504076957702637\n",
            "Epoch 7 : Loss : 4.541093826293945\n",
            "Epoch 8 : Loss : 4.488458633422852\n",
            "Epoch 9 : Loss : 4.549627780914307\n",
            "Epoch 0 : Loss : 4.587016582489014\n",
            "Epoch 1 : Loss : 4.557737827301025\n",
            "Epoch 2 : Loss : 4.508423805236816\n",
            "Epoch 3 : Loss : 4.517049312591553\n",
            "Epoch 4 : Loss : 4.532659530639648\n",
            "Epoch 5 : Loss : 4.524014472961426\n",
            "Epoch 6 : Loss : 4.494864463806152\n",
            "Epoch 7 : Loss : 4.522787094116211\n",
            "Epoch 8 : Loss : 4.518442630767822\n",
            "Epoch 9 : Loss : 4.508686542510986\n",
            "Epoch 0 : Loss : 4.551036357879639\n",
            "Epoch 1 : Loss : 4.556030750274658\n",
            "Epoch 2 : Loss : 4.548181056976318\n",
            "Epoch 3 : Loss : 4.479870319366455\n",
            "Epoch 4 : Loss : 4.560073375701904\n",
            "Epoch 5 : Loss : 4.476404190063477\n",
            "Epoch 6 : Loss : 4.507737636566162\n",
            "Epoch 7 : Loss : 4.4632391929626465\n",
            "Epoch 8 : Loss : 4.5083184242248535\n",
            "Epoch 9 : Loss : 4.535674095153809\n",
            "479 ms ± 10.3 ms per loop (mean ± std. dev. of 7 runs, 1 loop each)\n"
          ]
        }
      ]
    },
    {
      "cell_type": "code",
      "source": [
        "input_seq = torch.tensor([word2idx[word] for word in text.split()[-10:]]).unsqueeze(0).to('cuda')\n",
        "h0 = torch.zeros(10,input_seq.size(0),256).to('cuda')\n",
        "c0 = torch.zeros(10,input_seq.size(0),256).to('cuda')\n",
        "ouput, _ = model(input_seq,h0,c0)\n",
        "predicted_word = torch.argmax(ouput).item()\n",
        "print(f\"The next predicted word is : {idx2word[predicted_word]}\")"
      ],
      "metadata": {
        "id": "CiEOhIKMEOzs",
        "colab": {
          "base_uri": "https://localhost:8080/"
        },
        "outputId": "a6cae352-e9ef-41d4-a0d5-1e4ea3db5344"
      },
      "execution_count": 19,
      "outputs": [
        {
          "output_type": "stream",
          "name": "stdout",
          "text": [
            "The next predicted word is : the\n"
          ]
        }
      ]
    },
    {
      "cell_type": "code",
      "source": [],
      "metadata": {
        "id": "cfpPb50cLBVN"
      },
      "execution_count": null,
      "outputs": []
    }
  ]
}